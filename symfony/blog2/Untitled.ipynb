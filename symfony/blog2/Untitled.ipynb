{
 "cells": [
  {
   "cell_type": "code",
   "execution_count": 8,
   "metadata": {},
   "outputs": [
    {
     "name": "stdin",
     "output_type": "stream",
     "text": [
      " 6\n",
      " 5 2 4 6 1 3\n"
     ]
    }
   ],
   "source": [
    "numElements = int(input())\n",
    "A = input().split(' ')\n",
    "cnt = 0"
   ]
  },
  {
   "cell_type": "code",
   "execution_count": 9,
   "metadata": {},
   "outputs": [
    {
     "name": "stdout",
     "output_type": "stream",
     "text": [
      "1 2 4 5 6 3\n",
      "1 2 4 5 6 3\n",
      "1 2 4 5 6 3\n",
      "1 2 4 5 6 3\n",
      "1 2 4 5 6 3\n",
      "1 2 4 5 6 3\n"
     ]
    }
   ],
   "source": [
    "while cnt < numElements:\n",
    "    for i in range(1,len(A)-1):\n",
    "        key = A[i]\n",
    "\n",
    "        j = i - 1\n",
    "        while j >= 0 and A[j] > key:\n",
    "            A[j+1] = A[j]\n",
    "            j -= 1\n",
    "        A[j+1] = key\n",
    "    \n",
    "    print(' '.join(A))\n",
    "    cnt += 1"
   ]
  },
  {
   "cell_type": "code",
   "execution_count": null,
   "metadata": {},
   "outputs": [],
   "source": []
  }
 ],
 "metadata": {
  "kernelspec": {
   "display_name": "Python 3",
   "language": "python",
   "name": "python3"
  },
  "language_info": {
   "codemirror_mode": {
    "name": "ipython",
    "version": 3
   },
   "file_extension": ".py",
   "mimetype": "text/x-python",
   "name": "python",
   "nbconvert_exporter": "python",
   "pygments_lexer": "ipython3",
   "version": "3.7.3"
  }
 },
 "nbformat": 4,
 "nbformat_minor": 2
}
